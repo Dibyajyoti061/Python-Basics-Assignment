{
  "nbformat": 4,
  "nbformat_minor": 0,
  "metadata": {
    "colab": {
      "provenance": []
    },
    "kernelspec": {
      "name": "python3",
      "display_name": "Python 3"
    },
    "language_info": {
      "name": "python"
    }
  },
  "cells": [
    {
      "cell_type": "code",
      "execution_count": null,
      "metadata": {
        "id": "CmPE-tls18TN"
      },
      "outputs": [],
      "source": []
    },
    {
      "cell_type": "markdown",
      "source": [
        "# Python Basics\n",
        "\n",
        "1. What is Python, and why is it popular?\n",
        "\n",
        "-   Python is a high-level, interpreted, general-purpose programming language known for its readability and simplicity. Its popularity stems from its ease of learning, versatility across various domains (web development, data science, AI, scripting), extensive libraries, and a large, supportive community.\n",
        "\n",
        "2. What is an interpreter in Python?\n",
        "\n",
        "-   An interpreter is a program that directly executes instructions written in a programming language, line by line, without requiring them to be pre-compiled into machine-language instructions. In Python, the interpreter reads the source code, translates it into bytecode, and then executes that bytecode.\n",
        "\n",
        "3. What are pre-defined keywords in Python?\n",
        "\n",
        "-   Pre-defined keywords (or reserved words) are special words in Python that have specific meanings and purposes within the language's syntax. Examples include if, else, for, while, def, class, True, False, None.\n",
        "4. Can keywords be used as variable names?\n",
        "\n",
        "-   No, keywords cannot be used as variable names or any other identifiers in Python. Doing so will result in a SyntaxError.\n",
        "\n",
        "5. What is mutability in Python?\n",
        "\n",
        "-  Mutability refers to whether an object's state can be changed after it has been created. A mutable object can be modified in place, while an immutable object cannot be altered once created; any \"change\" to an immutable object actually creates a new object.\n",
        "6.  Why are lists mutable, but tuples are immutable?\n",
        "\n",
        "-  Lists are mutable because their elements can be added, removed, or changed after creation. Tuples are immutable because their elements cannot be modified, added, or removed once the tuple is created. This design choice provides flexibility for lists and ensures data integrity for tuples, making them suitable for different use cases.\n",
        "7. What is the difference between “==” and “is” operators in Python?\n",
        "-  == (equality operator) compares the values of two objects to see if they are equal.is (identity operator) compares the memory addresses of two objects to see if they are the same object in memory.\n",
        "8.  What are logical operators in Python?\n",
        "-  Logical operators are used to combine conditional statements:\n",
        "and: Returns True if both operands are True.\n",
        "or: Returns True if at least one operand is True.\n",
        "not: Returns the opposite boolean value of the operand.\n",
        "9. What is type casting in Python?\n",
        "-  Type casting or type conversion is the process of converting a value from one data type to another.\n",
        "10. What is the difference between implicit and explicit type casting?\n",
        "-  Implicit type casting coercionis performed automatically by the Python interpreter when operations involve different data types, converting one type to a compatible type to avoid errors.\n",
        "\n",
        "-  Explicit type casting is performed by the programmer using built-in functions like int(), float(), str(), etc., to explicitly convert a value to a desired data type.\n",
        "\n",
        "11. What is the purpose of conditional statements in Python?\n",
        "\n",
        "-  Conditional statements (like if, elif, else) allow a program to execute different blocks of code based on whether certain conditions are met. This enables decision-making and control flow within the program.\n",
        "12. How does the elif statement work?\n",
        "\n",
        "-  The elif (else if) statement is used in conjunction with if to test multiple conditions sequentially. If the if condition is False, the program checks the first elif condition. If that is also False, it moves to the next elif, and so on, until a True condition is found or the else block is reached.\n",
        "13. What is the difference between for and while loops?\n",
        "\n",
        "-  for loop: Used for iterating over a sequence (like a list, tuple, string, or range) or any iterable object, executing a block of code for each item in the sequence. It is typically used when the number of iterations is known or determined by the length of the iterable.\n",
        "while loop: Executes a block of code repeatedly as long as a given condition remains True. It is used when the number of iterations is not known beforehand and depends on a condition being met.\n",
        "\n",
        "14. Describe a scenario where a while loop is more suitable than a for loop?\n",
        "-  A while loop is more suitable when you need to repeatedly prompt a user for input until a valid input is provided. For example, asking the user to enter a number between 1 and 10, and continuously re-prompting them until their input falls within that range. The number of attempts is unknown, making a while loop ideal.\n",
        "\n",
        "\n"
      ],
      "metadata": {
        "id": "AbrDDJSeAFob"
      }
    },
    {
      "cell_type": "code",
      "source": [
        "while True:\n",
        "    user_input = input(\"Enter a number between 1 and 10: \")\n",
        "    try:\n",
        "        number = int(user_input)\n",
        "        if 1 <= number <= 10:\n",
        "            print(f\"You entered: {number}\")\n",
        "            break  # Exit the loop if input is valid\n",
        "        else:\n",
        "            print(\"Invalid input. Number must be between 1 and 10.\")\n",
        "    except ValueError:\n",
        "        print(\"Invalid input. Please enter a whole number.\")"
      ],
      "metadata": {
        "id": "mCf0cfLVE4XV"
      },
      "execution_count": null,
      "outputs": []
    },
    {
      "cell_type": "markdown",
      "source": [
        "# Practical Questions Answers\n",
        "\n"
      ],
      "metadata": {
        "id": "fX44bjosE-Jd"
      }
    },
    {
      "cell_type": "code",
      "source": [
        "#1.Write a Python program to print \"Hello, World!\"\n",
        "print(\"Hello, World!\")"
      ],
      "metadata": {
        "colab": {
          "base_uri": "https://localhost:8080/"
        },
        "id": "qOhsD0azHlfi",
        "outputId": "bed599b5-7bad-41a0-f3b4-227aac22d97f"
      },
      "execution_count": 1,
      "outputs": [
        {
          "output_type": "stream",
          "name": "stdout",
          "text": [
            "Hello, World!\n"
          ]
        }
      ]
    },
    {
      "cell_type": "code",
      "source": [
        "#2.Write a Python program that displays your name and age.\n",
        "name = \"Dibya\"\n",
        "age = 22\n",
        "print(f\"My name is {name} and I am {age} years old.\")\n"
      ],
      "metadata": {
        "colab": {
          "base_uri": "https://localhost:8080/"
        },
        "id": "au0FoWd6I5Gs",
        "outputId": "e9ca8128-ac86-47ed-93b8-5759033c1faa"
      },
      "execution_count": 2,
      "outputs": [
        {
          "output_type": "stream",
          "name": "stdout",
          "text": [
            "My name is Dibya and I am 22 years old.\n"
          ]
        }
      ]
    },
    {
      "cell_type": "code",
      "source": [
        "#3.Write code to print all the pre-defined keywords in Python using the keyword library.\n",
        "import keyword\n",
        "\n",
        "print(\"The pre-defined Python keywords are:\")\n",
        "print(keyword.kwlist)"
      ],
      "metadata": {
        "colab": {
          "base_uri": "https://localhost:8080/"
        },
        "id": "kKHafHbQJQ28",
        "outputId": "8c2033aa-1ee1-4cb4-f8c4-7ed3b18bac57"
      },
      "execution_count": 3,
      "outputs": [
        {
          "output_type": "stream",
          "name": "stdout",
          "text": [
            "The pre-defined Python keywords are:\n",
            "['False', 'None', 'True', 'and', 'as', 'assert', 'async', 'await', 'break', 'class', 'continue', 'def', 'del', 'elif', 'else', 'except', 'finally', 'for', 'from', 'global', 'if', 'import', 'in', 'is', 'lambda', 'nonlocal', 'not', 'or', 'pass', 'raise', 'return', 'try', 'while', 'with', 'yield']\n"
          ]
        }
      ]
    },
    {
      "cell_type": "code",
      "source": [
        "#4.Write a program that checks if a given word is a Python keyword.\n",
        "import keyword\n",
        "\n",
        "word = \"for\"  # You can change this word to test others\n",
        "if word in keyword.kwlist:\n",
        "    print(f\"'{word}' is a Python keyword.\")\n",
        "else:\n",
        "    print(f\"'{word}' is not a Python keyword.\")"
      ],
      "metadata": {
        "colab": {
          "base_uri": "https://localhost:8080/"
        },
        "id": "tyz_KlW-Ji2p",
        "outputId": "77e60d7d-beb3-4ccd-8017-2384311807f8"
      },
      "execution_count": 4,
      "outputs": [
        {
          "output_type": "stream",
          "name": "stdout",
          "text": [
            "'for' is a Python keyword.\n"
          ]
        }
      ]
    },
    {
      "cell_type": "code",
      "source": [
        "# 5.Create a list and tuple in Python, and demonstrate how attempting to change an element works differently for each.\n",
        "my_list = [10, 20, 30]\n",
        "my_tuple = (10, 20, 30)\n",
        "\n",
        "# Changing an element in a list (works)\n",
        "my_list[1] = 25\n",
        "print(\"Modified list:\", my_list)\n",
        "\n",
        "# Attempting to change an element in a tuple (raises an error)\n",
        "try:\n",
        "    my_tuple[1] = 25\n",
        "except TypeError as e:\n",
        "    print(\"Error:\", e)"
      ],
      "metadata": {
        "colab": {
          "base_uri": "https://localhost:8080/"
        },
        "id": "dBDHU_b3JzTo",
        "outputId": "01add5aa-454b-4a34-bb6c-b4cd3fccffba"
      },
      "execution_count": 5,
      "outputs": [
        {
          "output_type": "stream",
          "name": "stdout",
          "text": [
            "Modified list: [10, 25, 30]\n",
            "Error: 'tuple' object does not support item assignment\n"
          ]
        }
      ]
    },
    {
      "cell_type": "code",
      "source": [
        "#6. Write a function to demonstrate the behavior of mutable and immutable arguments.\n",
        "def modify_list(my_list):\n",
        "    print(\"Inside function (before change):\", my_list)\n",
        "    my_list.append(4)  # Modifies the original list\n",
        "    print(\"Inside function (after change):\", my_list)\n",
        "\n",
        "def change_number(my_num):\n",
        "    print(\"Inside function (before change):\", my_num)\n",
        "    my_num += 1  # Creates a new local integer object\n",
        "    print(\"Inside function (after change):\", my_num)\n",
        "\n",
        "# Demonstrating mutable argument\n",
        "my_list = [1, 2, 3]\n",
        "print(\"Original list:\", my_list)\n",
        "modify_list(my_list)\n",
        "print(\"List after function call:\", my_list)\n",
        "\n",
        "print(\"\\n\" + \"-\"*30 + \"\\n\")\n",
        "\n",
        "# Demonstrating immutable argument\n",
        "my_num = 10\n",
        "print(\"Original number:\", my_num)\n",
        "change_number(my_num)\n",
        "print(\"Number after function call:\", my_num)"
      ],
      "metadata": {
        "colab": {
          "base_uri": "https://localhost:8080/"
        },
        "id": "Sudsa3zmKhBg",
        "outputId": "17c45199-da37-4df4-ab1b-df4d7328e3d1"
      },
      "execution_count": 6,
      "outputs": [
        {
          "output_type": "stream",
          "name": "stdout",
          "text": [
            "Original list: [1, 2, 3]\n",
            "Inside function (before change): [1, 2, 3]\n",
            "Inside function (after change): [1, 2, 3, 4]\n",
            "List after function call: [1, 2, 3, 4]\n",
            "\n",
            "------------------------------\n",
            "\n",
            "Original number: 10\n",
            "Inside function (before change): 10\n",
            "Inside function (after change): 11\n",
            "Number after function call: 10\n"
          ]
        }
      ]
    },
    {
      "cell_type": "code",
      "source": [
        "#7.Write a program that performs basic arithmetic operations on two user-input numbers.\n",
        "num1 = float(input(\"Enter the first number: \"))\n",
        "num2 = float(input(\"Enter the second number: \"))\n",
        "\n",
        "# Perform arithmetic operations\n",
        "addition = num1 + num2\n",
        "subtraction = num1 - num2\n",
        "multiplication = num1 * num2\n",
        "division = num1 / num2\n",
        "\n",
        "# Display the results\n",
        "print(f\"Sum: {addition}\")\n",
        "print(f\"Difference: {subtraction}\")\n",
        "print(f\"Product: {multiplication}\")\n",
        "print(f\"Quotient: {division}\")"
      ],
      "metadata": {
        "colab": {
          "base_uri": "https://localhost:8080/"
        },
        "id": "86_PViNOLqzU",
        "outputId": "9433531d-0c42-42b3-8796-2331cf50110b"
      },
      "execution_count": 7,
      "outputs": [
        {
          "output_type": "stream",
          "name": "stdout",
          "text": [
            "Enter the first number: 2\n",
            "Enter the second number: 3\n",
            "Sum: 5.0\n",
            "Difference: -1.0\n",
            "Product: 6.0\n",
            "Quotient: 0.6666666666666666\n"
          ]
        }
      ]
    },
    {
      "cell_type": "code",
      "source": [
        "# 8.Write a program to demonstrate the use of logical operators.\n",
        "age = 25\n",
        "has_license = True\n",
        "is_student = False\n",
        "\n",
        "# AND operator\n",
        "print(f\"Can drive and is an adult (age > 18 and has_license): {age > 18 and has_license}\")\n",
        "\n",
        "# OR operator\n",
        "print(f\"Is eligible for discount (age < 18 or is_student): {age < 18 or is_student}\")\n",
        "\n",
        "# NOT operator\n",
        "print(f\"Is not a student (not is_student): {not is_student}\")\n",
        "\n",
        "# Combining operators\n",
        "print(f\"Can drive and not a student (age > 18 and has_license and not is_student): {age > 18 and has_license and not is_student}\")"
      ],
      "metadata": {
        "colab": {
          "base_uri": "https://localhost:8080/"
        },
        "id": "-92GwvkFMkNe",
        "outputId": "01217390-9b0f-497d-8a15-4671247df24d"
      },
      "execution_count": 8,
      "outputs": [
        {
          "output_type": "stream",
          "name": "stdout",
          "text": [
            "Can drive and is an adult (age > 18 and has_license): True\n",
            "Is eligible for discount (age < 18 or is_student): False\n",
            "Is not a student (not is_student): True\n",
            "Can drive and not a student (age > 18 and has_license and not is_student): True\n"
          ]
        }
      ]
    },
    {
      "cell_type": "code",
      "source": [
        "#9.Write a Python program to convert user input from string to integer, float, and boolean types.\n",
        "# Convert string to integer\n",
        "num_str = \"123\"\n",
        "num_int = int(num_str)\n",
        "print(f\"String '{num_str}' converted to integer: {num_int}, type: {type(num_int)}\")\n",
        "\n",
        "# Convert string to float\n",
        "float_str = \"123.45\"\n",
        "float_num = float(float_str)\n",
        "print(f\"String '{float_str}' converted to float: {float_num}, type: {type(float_num)}\")\n",
        "\n",
        "# Convert string to boolean\n",
        "bool_str = \"True\"\n",
        "bool_val = bool(bool_str) # Any non-empty string is True\n",
        "print(f\"String '{bool_str}' converted to boolean: {bool_val}, type: {type(bool_val)}\")"
      ],
      "metadata": {
        "colab": {
          "base_uri": "https://localhost:8080/"
        },
        "id": "Abh_7I_-NNfH",
        "outputId": "fe9aa454-8010-4419-b3de-a700ab53b48a"
      },
      "execution_count": 9,
      "outputs": [
        {
          "output_type": "stream",
          "name": "stdout",
          "text": [
            "String '123' converted to integer: 123, type: <class 'int'>\n",
            "String '123.45' converted to float: 123.45, type: <class 'float'>\n",
            "String 'True' converted to boolean: True, type: <class 'bool'>\n"
          ]
        }
      ]
    },
    {
      "cell_type": "code",
      "source": [
        "#10. Write code to demonstrate type casting with list elements.\n",
        "# Original list of strings\n",
        "string_list = [\"1\", \"2\", \"3\", \"4\"]\n",
        "\n",
        "# Using a list comprehension to cast to integers\n",
        "integer_list = [int(item) for item in string_list]\n",
        "print(f\"Original list of strings: {string_list}\")\n",
        "print(f\"List of integers: {integer_list}\")\n",
        "\n",
        "# Using a for loop to cast to floats\n",
        "float_list = []\n",
        "for item in string_list:\n",
        "    float_list.append(float(item))\n",
        "print(f\"List of floats: {float_list}\")"
      ],
      "metadata": {
        "colab": {
          "base_uri": "https://localhost:8080/"
        },
        "id": "KQFjm4Q4N3kS",
        "outputId": "6332f9ff-6ea5-4fee-c13f-70d5f391fde4"
      },
      "execution_count": 10,
      "outputs": [
        {
          "output_type": "stream",
          "name": "stdout",
          "text": [
            "Original list of strings: ['1', '2', '3', '4']\n",
            "List of integers: [1, 2, 3, 4]\n",
            "List of floats: [1.0, 2.0, 3.0, 4.0]\n"
          ]
        }
      ]
    },
    {
      "cell_type": "code",
      "source": [
        "# 11.Write a program that checks if a number is positive, negative, or zero.\n",
        "num = float(input(\"Enter a number: \"))\n",
        "\n",
        "if num > 0:\n",
        "    print(\"The number is positive.\")\n",
        "elif num < 0:\n",
        "    print(\"The number is negative.\")\n",
        "else:\n",
        "    print(\"The number is zero.\")"
      ],
      "metadata": {
        "colab": {
          "base_uri": "https://localhost:8080/"
        },
        "id": "w8eK_r7nOBR1",
        "outputId": "e933cd31-9e88-4c28-d2e6-de23f6dbb7b0"
      },
      "execution_count": 11,
      "outputs": [
        {
          "output_type": "stream",
          "name": "stdout",
          "text": [
            "Enter a number: 13\n",
            "The number is positive.\n"
          ]
        }
      ]
    },
    {
      "cell_type": "code",
      "source": [
        "# 12. Write a for loop to print numbers from 1 to 10.\n",
        "for i in range(1, 11):\n",
        "    print(i)\n"
      ],
      "metadata": {
        "colab": {
          "base_uri": "https://localhost:8080/"
        },
        "id": "v3THoIAXOPz1",
        "outputId": "b85a0c94-f386-4a09-c770-156dd861d1e3"
      },
      "execution_count": 12,
      "outputs": [
        {
          "output_type": "stream",
          "name": "stdout",
          "text": [
            "1\n",
            "2\n",
            "3\n",
            "4\n",
            "5\n",
            "6\n",
            "7\n",
            "8\n",
            "9\n",
            "10\n"
          ]
        }
      ]
    },
    {
      "cell_type": "code",
      "source": [
        "# 13.Write a Python program to find the sum of all even numbers between 1 and 50.\n",
        "total_sum = 0\n",
        "for num in range(1, 51):\n",
        "    if num % 2 == 0:\n",
        "        total_sum += num\n",
        "print(f\"The sum of all even numbers between 1 and 50 is: {total_sum}\")"
      ],
      "metadata": {
        "colab": {
          "base_uri": "https://localhost:8080/"
        },
        "id": "wKGHowVoOdvi",
        "outputId": "054e172e-c8b3-42ab-a759-7543eb5d04be"
      },
      "execution_count": 13,
      "outputs": [
        {
          "output_type": "stream",
          "name": "stdout",
          "text": [
            "The sum of all even numbers between 1 and 50 is: 650\n"
          ]
        }
      ]
    },
    {
      "cell_type": "code",
      "source": [
        "# 14.Write a program to reverse a string using a while loop.\n",
        "original_string = \"Dibya\"\n",
        "reversed_string = \"\"\n",
        "index = len(original_string) - 1\n",
        "\n",
        "while index >= 0:\n",
        "    reversed_string += original_string[index]\n",
        "    index -= 1\n",
        "\n",
        "print(f\"The reversed string is: {reversed_string}\")"
      ],
      "metadata": {
        "colab": {
          "base_uri": "https://localhost:8080/"
        },
        "id": "xINkduQSOnrX",
        "outputId": "84085bb3-e778-4671-c6d3-9884645c6715"
      },
      "execution_count": 15,
      "outputs": [
        {
          "output_type": "stream",
          "name": "stdout",
          "text": [
            "The reversed string is: aybiD\n"
          ]
        }
      ]
    },
    {
      "cell_type": "code",
      "source": [
        "#15.Write a Python program to calculate the factorial of a number provided by the user using a while loop.\n",
        "num = int(input(\"Enter a non-negative number: \"))\n",
        "factorial = 1\n",
        "count = 1\n",
        "\n",
        "if num < 0:\n",
        "    print(\"Factorial is not defined for negative numbers.\")\n",
        "elif num == 0:\n",
        "    print(\"The factorial of 0 is 1.\")\n",
        "else:\n",
        "    while count <= num:\n",
        "        factorial *= count\n",
        "        count += 1\n",
        "    print(f\"The factorial of {num} is {factorial}.\")"
      ],
      "metadata": {
        "colab": {
          "base_uri": "https://localhost:8080/"
        },
        "id": "36SVxbrcO6w2",
        "outputId": "d3243027-be88-45cf-9e6b-44c0ceb65470"
      },
      "execution_count": 16,
      "outputs": [
        {
          "output_type": "stream",
          "name": "stdout",
          "text": [
            "Enter a non-negative number: 15\n",
            "The factorial of 15 is 1307674368000.\n"
          ]
        }
      ]
    }
  ]
}